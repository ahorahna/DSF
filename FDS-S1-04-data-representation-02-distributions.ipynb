{
 "cells": [
  {
   "cell_type": "markdown",
   "metadata": {},
   "source": [
    "# Foundations of Data Science\n",
    "## Week 04: Data representation II: Distributions and Seaborn "
   ]
  },
  {
   "cell_type": "markdown",
   "metadata": {},
   "source": [
    "**Learning outcomes:** \n",
    "In this lab you will learn more advanced plotting options using Matplotlib, and Seaborn, a different plotting library based on Matplotlib.  By the end of the lab you should be able to:\n",
    "- represent distributions using Matplotlib,\n",
    "- draw figures with differently sized subplots,\n",
    "- represent multivariate distributions using Seaborn.\n",
    "\n",
    "After examining CO2 emission data and having reached a tentative answer on who is responsible for the current state of CO2 in the atmosphere, we will take the position of a medical researcher, and try to answer the following question:\n",
    "\n",
    "**Research question:** What are the most important factors leading to diabetes?\n",
    "\n",
    "**Data information:** We are using a well-known [UCI](https://www.kaggle.com/uciml/pima-indians-diabetes-database) dataset of female patients over 21 years old and of Pima Indian heritage.\n",
    "\n",
    "**Remarks:**\n",
    "- Remember to think about all the points you learned from the lectures and the last lab about how to do good plots (labeling, size, colors...)\n",
    "- For some exercises you might need to use google or the matplotlib documentation - the [Tutorials](https://matplotlib.org/3.2.1/tutorials/index.html) and [API reference](https://matplotlib.org/3.2.1/api/index.html) are the most useful sections. It is important to get familiar with looking up how to solve problems online. Throughout your career you will encounter many problems that other people have encountered too; there is no need to reinvent the wheel.\n",
    "- We will not provide all the code in the tutorials, but expect you to be able to draw from previous labs to fill in gaps.\n",
    "- Try not to use copy+paste when coding these labs, as typing will help you memorize the code better.\n",
    "- Try to understand each detail in the code we provide, and read the comments!"
   ]
  },
  {
   "cell_type": "code",
   "execution_count": null,
   "metadata": {},
   "outputs": [],
   "source": [
    "import os\n",
    "import matplotlib.pyplot as plt\n",
    "import pandas as pd\n",
    "import numpy as np\n",
    "import seaborn as sns\n",
    "from sklearn import datasets\n",
    "from mpl_toolkits.mplot3d import Axes3D\n",
    "import math"
   ]
  },
  {
   "cell_type": "markdown",
   "metadata": {},
   "source": [
    "## A Plotting distributions: Histograms and Boxplots"
   ]
  },
  {
   "cell_type": "markdown",
   "metadata": {},
   "source": [
    "In the last lab, we learned to represent data using line plots, bar charts and scatter plots. In this lab, we will focus on representing distributions."
   ]
  },
  {
   "cell_type": "code",
   "execution_count": null,
   "metadata": {},
   "outputs": [],
   "source": [
    "diabetes_loc = os.path.join(os.getcwd(), 'datasets', 'diabetes.csv')\n",
    "diabetes = pd.read_csv(diabetes_loc)\n",
    "diabetes.head()"
   ]
  },
  {
   "cell_type": "markdown",
   "metadata": {},
   "source": [
    "The `Outcome` column represents whether or not the patient has diabetes."
   ]
  },
  {
   "cell_type": "markdown",
   "metadata": {},
   "source": [
    "There are many options to represent distributions. A common choice is the **histogram** `plt.hist(data, bins)`, where `bins` is either an integer representing the number of bins, e.g. 10, or an array of the limits of the bins, e.g. `[0, 10, 20, 30]`. Let's get an idea about whether the dataset is a good representation of the actual population."
   ]
  },
  {
   "cell_type": "code",
   "execution_count": null,
   "metadata": {},
   "outputs": [],
   "source": [
    "plt.hist(diabetes['Age'], 10)\n",
    "plt.xlabel('Age')\n",
    "plt.ylabel('Frequency')"
   ]
  },
  {
   "cell_type": "markdown",
   "metadata": {},
   "source": [
    "**Discussion:** In many cases, one expects a normal distribution (sometimes referred to as a Gaussian distribution), when looking at a distribution of a variable from a whole population, e.g. height, IQ or body mass index. However, this is not the case above. Discuss with your lab partner why the above distribution might still be a good representation of the true distribution. Write down your answers:"
   ]
  },
  {
   "cell_type": "markdown",
   "metadata": {},
   "source": [
    "Your answer:\n"
   ]
  },
  {
   "cell_type": "markdown",
   "metadata": {},
   "source": [
    "**Exercise 01:** Check the [US census website](https://data.census.gov/cedsci/table?q=S0201&tid=ACSSPP1Y2019.S0201) and filter for 'American Indian' to see whether the above is a good representation¹. (You can filter by clicking on 'Filter' in the top left corner of the website, then typing 'American Indian' into the 'Find a filter' field.)\n",
    "\n",
    "- Fix the histogram from above to use the same ranges for the bins (i.e. 18-24 years, 25-34 years...) as on the website.\n",
    "- Discuss with your lab partner whether the age distribution of the data set we use is a good approximation of the real distribution.\n",
    "\n",
    "¹ Many terms have been used to refer to the people living in the Americas when European colonists arrived from the 15th century. These terms are [contested](https://en.wikipedia.org/wiki/Native_American_name_controversy). The US Census data uses the terms 'American Indian' and 'Alaska Native' and has [researched the preferences of these communities](https://www.census.gov/prod/2/gen/96arc/ivatuck.pdf)."
   ]
  },
  {
   "cell_type": "code",
   "execution_count": null,
   "metadata": {},
   "outputs": [],
   "source": [
    "# Your code\n"
   ]
  },
  {
   "cell_type": "markdown",
   "metadata": {},
   "source": [
    "A well known fact is that people who are obese, defined as a body mass index (BMI) greater or equal to 35, are more likely to get diabetes. Let's double check that."
   ]
  },
  {
   "cell_type": "markdown",
   "metadata": {},
   "source": [
    "**Exercise 02:** \n",
    "\n",
    "a) Split the dataset into two sub sets `diabetes_true` and `diabetes_false`, one containing all the patients with diagnosed diabetes and the other one the rest.\n",
    "\n",
    "b) Create a figure with two subplots: (1) a histogram of the BMI distribution of `diabetes_true`; and (2) a histogram of the BMI distribution of `diabetes_false`. Play around with the number of bins; try to find a number that shows the distribution well."
   ]
  },
  {
   "cell_type": "code",
   "execution_count": null,
   "metadata": {},
   "outputs": [],
   "source": [
    "# Your code\n"
   ]
  },
  {
   "cell_type": "markdown",
   "metadata": {},
   "source": [
    "Another option to represent distributions is the **boxplot** `plt.boxplot(data)`. Boxplots (also known as box and whisker plots) are one-dimensional representations of a distribution in which the box extends from the lower (first) to the upper (fourth) quartile values of the data, while the line across the box represents the median. The 'whiskers', the lines extending from the box, can represent different things, as described on the [Wikipedia article on boxplots](https://en.wikipedia.org/wiki/Box_plot). By default, Matplotlib defines the end of the upper whisker as the value of the largest data point that lies within 1.5 times the interquartile range from the upper quartile, and the lower whisker as the value of the smallest data point that lies within 1.5 times the interquartile range from the lower quartile. Data points that lie outwith the whiskers are called outliers, and are represented by dots or circles. Since the whiskers can represent multiple statistics; their meaning should be indicated in the plot caption."
   ]
  },
  {
   "cell_type": "markdown",
   "metadata": {},
   "source": [
    "**Exercise 03:**\n",
    "\n",
    "a) Compute the upper and lower quartile, the median, the interquartile range, the mean, and the standard deviation of `diabetes_true['BMI']`, without using statistics libraries.\n",
    "\n",
    "b) Compare your results with the statistics functions from the pandas library. (Hint: You might get slightly different results depending on which definition of quartiles you use.)"
   ]
  },
  {
   "cell_type": "code",
   "execution_count": null,
   "metadata": {},
   "outputs": [],
   "source": [
    "# Your code\n"
   ]
  },
  {
   "cell_type": "markdown",
   "metadata": {},
   "source": [
    "Now that we have computed those values, let's redraw the BMI distribution from above using a boxplot."
   ]
  },
  {
   "cell_type": "code",
   "execution_count": null,
   "metadata": {},
   "outputs": [],
   "source": [
    "bmi = np.array([diabetes_true['BMI'], diabetes_false['BMI']], dtype=object)\n",
    "plt.boxplot(bmi, labels=['Patients diagnosed with diabetes', 'Patients not diagnosed with diabetes'])\n",
    "plt.ylabel('BMI')\n",
    "# Remark: the input is an array of arrays; each array returns one boxplot.\n",
    "plt.show()"
   ]
  },
  {
   "cell_type": "markdown",
   "metadata": {},
   "source": [
    "Note that in Exercise 02 we used two subplots to represent the different distributions. Boxplots allow us to represent both distributions in one plot.\n",
    "\n",
    "However, the names of the x labels overlap; let's fix this."
   ]
  },
  {
   "cell_type": "markdown",
   "metadata": {},
   "source": [
    "**Exercise 04:** \n",
    "Rotate the labels of the plot such that they don't overlap. Try to find a good rotation angle, such that the label names don't overlap and yet don't take up too much space below the figure."
   ]
  },
  {
   "cell_type": "code",
   "execution_count": null,
   "metadata": {},
   "outputs": [],
   "source": [
    "# Your code\n"
   ]
  },
  {
   "cell_type": "markdown",
   "metadata": {},
   "source": [
    "Now that we have seen that higher BMI is associated with diabetes, let us consider how pregnancy affects a woman's likelihood of getting diabetes."
   ]
  },
  {
   "cell_type": "markdown",
   "metadata": {},
   "source": [
    "**Exercise 05:** \n",
    "\n",
    "a) Split the two datasets (`diabetes_true` and `diabetes_false`) into 12 subsets, dependent on how often the women were pregnant, i.e. 0 pregnancies, 1 pregnancy, ... 11 pregnancies, >11 pregnancies. Store all 12 subsets in one array (`bmi_pregnancy_diabetes_true`, `bmi_pregnancy_diabetes_false`).\n",
    "\n",
    "b) Plot a figure with two subplots, each showing 12 distributions of the BMI, dependent on how often the women were pregnant. One plot should be drawn based on the distributions from the set of women in `diabetes_true` and the other based on the distributions from the set of women in `diabetes_false`.\n",
    "\n",
    "c) Does pregnancy have an effect on the probability of having diabetes?"
   ]
  },
  {
   "cell_type": "code",
   "execution_count": null,
   "metadata": {},
   "outputs": [],
   "source": [
    "# Your code\n"
   ]
  },
  {
   "cell_type": "markdown",
   "metadata": {},
   "source": [
    "**Discussion:** Boxplots represent distributions in a very simplified manner. Discuss with your lab partner when and how a box plot could misrepresent information. What would be an example of a distribution that would be badly represented by a boxplot? Write down your answer:"
   ]
  },
  {
   "cell_type": "markdown",
   "metadata": {},
   "source": [
    "Your answer:\n"
   ]
  },
  {
   "cell_type": "markdown",
   "metadata": {},
   "source": [
    "## B Two-dimensional historgrams"
   ]
  },
  {
   "cell_type": "markdown",
   "metadata": {},
   "source": [
    "Above we have plotted different BMI distributions dependent on how many pregnancies the women had. Of course, the number of pregnancies in the population is also a distribution. The next step would be to combine those two dimensions into one histogram. A 2D histogram can be represented as a *heatmap*, plotted using the function `hist2d(x, y, bins)`. A heatmap comprises 2D-array of coloured rectangles, one for each combination of bins in the x and y axes. The colour of each rectangle represents the number of data points falling within the bin. Let's plot the joint distribution of BMI and pregnancies. "
   ]
  },
  {
   "cell_type": "code",
   "execution_count": null,
   "metadata": {},
   "outputs": [],
   "source": [
    "fig, (ax1, ax2) = plt.subplots(1, 2, figsize= (10, 5))\n",
    "# Patients with diabetes\n",
    "# h1 = histogram 1. we need to save the output to add colorbar later on. \n",
    "# We could also plot without colorbar.\n",
    "h1 = ax1.hist2d(diabetes_true[diabetes_true['Pregnancies']<12]['Pregnancies'], # x value of data point\n",
    "               diabetes_true[diabetes_true['Pregnancies']<12]['BMI'], # y value of data point\n",
    "               [12,50], # number of bins [x, y]\n",
    "               density=True # Normalize data. Try with density = False and compare output\n",
    "              )\n",
    "ax1.set_title('Patients diagnosed with diabetes')\n",
    "ax1.set_ylabel('BMI')\n",
    "ax1.set_xlabel('Number of pregnancies')\n",
    "# Let's add a legend to understand what the colour means\n",
    "fig.colorbar(h1[3], ax=ax1)\n",
    "\n",
    "# Patients without diabetes\n",
    "h2 = ax2.hist2d(diabetes_false[diabetes_false['Pregnancies']<12]['Pregnancies'],\n",
    "               diabetes_false[diabetes_false['Pregnancies']<12]['BMI'],\n",
    "               [12, 50],\n",
    "               density=True\n",
    "              )\n",
    "ax2.set_title('Patients not diagnosed with diabetes')\n",
    "ax2.set_ylabel('BMI')\n",
    "ax2.set_xlabel('Number of pregnancies')\n",
    "fig.colorbar(h2[3], ax=ax2)"
   ]
  },
  {
   "cell_type": "markdown",
   "metadata": {},
   "source": [
    "## C Gridspaces"
   ]
  },
  {
   "cell_type": "markdown",
   "metadata": {},
   "source": [
    "In the last lab, we discussed how to create a figure with several subplots. However, all subplots had the same size. How can we recreate the figure below?\n",
    "![title](https://matplotlib.org/3.1.1/_images/sphx_glr_gridspec_003.png)\n",
    "From the [matplotlib documentation](https://matplotlib.org/3.1.1/_images/sphx_glr_gridspec_003.png).\n",
    "\n",
    "When we use `.subplots(nrows,mcols, figsize)` Matplotlib actually creates a figure with size `figsize`, and then overlays an equally spaced grid with n rows and m columns. We can use that grid and spread an axes over several columns and rows."
   ]
  },
  {
   "cell_type": "code",
   "execution_count": null,
   "metadata": {},
   "outputs": [],
   "source": [
    "multiplot_fig = plt.figure(constrained_layout=True)\n",
    "grid = multiplot_fig.add_gridspec(3, 3)\n",
    "ax1 = multiplot_fig.add_subplot(grid[0, :])\n",
    "ax1.set_title('grid[0, :]')\n",
    "ax2 = multiplot_fig.add_subplot(grid[1, :-1])\n",
    "ax2.set_title('grid[1, :-1]')\n",
    "ax3 = multiplot_fig.add_subplot(grid[1:, -1])\n",
    "ax3.set_title('grid[1:, -1]')\n",
    "ax4 = multiplot_fig.add_subplot(grid[-1, 0])\n",
    "ax4.set_title('grid[-1, 0]')\n",
    "ax5 = multiplot_fig.add_subplot(grid[-1, -2])\n",
    "ax5.set_title('grid[-1, -2]')"
   ]
  },
  {
   "cell_type": "markdown",
   "metadata": {},
   "source": [
    "Let's use this to our advantage. To illustrate better the two dimensional histogram above, let's add a figure on the side and below, representing the distribution of BMI and pregnancies independent of other data, i.e. the projection of the 2D plot onto one dimension."
   ]
  },
  {
   "cell_type": "code",
   "execution_count": null,
   "metadata": {},
   "outputs": [],
   "source": [
    "multiplot_fig = plt.figure(constrained_layout=True, figsize = (10,10))\n",
    "grid = multiplot_fig.add_gridspec(3, 3)\n",
    "ax1 = multiplot_fig.add_subplot(grid[:-1, :-1])\n",
    "ax2 = multiplot_fig.add_subplot(grid[2, :-1])\n",
    "ax3 = multiplot_fig.add_subplot(grid[:-1, 2])\n",
    "h1 = ax1.hist2d(diabetes_true[diabetes_true['Pregnancies']<12]['Pregnancies'], # x vales of data points\n",
    "                diabetes_true[diabetes_true['Pregnancies']<12]['BMI'], # y values of data points\n",
    "                [12,50], # Number of bins in x and y directions\n",
    "                density=True # Normalize data. Try with density = False and compare output\n",
    "                )\n",
    "ax1.set_ylabel('BMI')\n",
    "ax1.set_xlabel('Number of pregnancies')\n",
    "ax2.hist(diabetes_true[diabetes_true['Pregnancies']<12]['Pregnancies'], 12)\n",
    "ax2.set_xlim([0, 11])\n",
    "ax3.hist(diabetes_true[diabetes_true['Pregnancies']<12]['BMI'], 50, orientation=\"horizontal\", range=(0, 70))\n",
    "ax3.set_ylim([0, 67])"
   ]
  },
  {
   "cell_type": "markdown",
   "metadata": {},
   "source": [
    "Great! You have learned enough in Matplotlib to draw many plots you will need in data visualization and, by extension, analytics. More importantly, you should have enough solid basic knowledge of Matplotlib to be able to  understand quickly the documentation or StackOverflow answers. Remember, if you copy+paste a solution from StackOverflow, you should always try to understand each line. Firstly, if you understand each line well you will remember the solution better and won't need to look it up next time. Secondly, anyone can post answers on StackOverflow, and often the answers proposed are not the cleanest option. Knowing the underlying basics of Matplotlib will help you to clean up messy answers and still use those in your code.\n",
    "\n",
    "The last thing we will discuss is Seaborn, a different plotting library based on Matplotlib.\n",
    "\n",
    "## D Seaborn\n",
    "\n",
    "[Seaborn](https://seaborn.pydata.org/) is a plotting library that can produce nicer looking plots than Matplotlib with less code. We will look at a few basic options to make a Matplotlib plot look better, and a few extra plots that cannot be done with Matplotlib.\n",
    "\n",
    "The documentation is quite extensive and the official website contains many [tutorials](https://seaborn.pydata.org/tutorial.html). In addition, if you are looking for example plots as inspiration this [website](https://seaborn.pydata.org/examples/index.html) contains many examples.\n",
    "\n",
    "### D.1 Adding flair to the plots with less code\n",
    "You can create all the types of plot encountered so far with Seaborn with much less effort, and it creates beautiful plots almost automatically. \n",
    "\n",
    "Seaborn can draw good looking histograms, automatically choosing a good number of bins, and can add extra information to the plots. In the case of histograms, it automatically draws a density curve. In addition, we can add small lines at the bottom indicating each observation (`rug=True`). To see more options check the [documentation](https://seaborn.pydata.org/generated/seaborn.distplot.html). "
   ]
  },
  {
   "cell_type": "code",
   "execution_count": null,
   "metadata": {},
   "outputs": [],
   "source": [
    "sns.distplot(diabetes_true['BMI'], rug=True)"
   ]
  },
  {
   "cell_type": "markdown",
   "metadata": {},
   "source": [
    "We can also draw the boxplots from Exercise 5 can be plotted the same way as in Matplotlib:"
   ]
  },
  {
   "cell_type": "code",
   "execution_count": null,
   "metadata": {},
   "outputs": [],
   "source": [
    "sns.boxplot(data = bmi_pregnancy_diabetes_true)"
   ]
  },
  {
   "cell_type": "markdown",
   "metadata": {},
   "source": [
    "Apart from the colours, and the style of the markers, there doesn't seem to be much improvement over Matplotlib. We still need to add 2 lines of code to label the x and y axis. \n",
    "\n",
    "However, we can do better with this, and avoid the coding you had to do in Exercise 5. At the beginning of this lab, the data was is in DataFrame `diabetes`, where each row is one record - this is the __data matrix__ format, also known as [tidy data](https://en.wikipedia.org/wiki/Tidy_data) or sometimes __long form__. In order to use Matplotlib, we had to transform it into a list of arrays. Seaborn lets us use the data matrix directly, by specifying the `x` and `y` variables and the `data` matrix.  "
   ]
  },
  {
   "cell_type": "code",
   "execution_count": null,
   "metadata": {},
   "outputs": [],
   "source": [
    "diabetes_capped = diabetes.copy() # We make a copy just to avoid changing our data set\n",
    "diabetes_capped = diabetes_capped[diabetes_capped['Pregnancies'] <= 11] # We cap the data set to only include the patients with maximum 11 pregnancies to have the same data as in the previous exercises\n",
    "sns.boxplot(x='Pregnancies', y='BMI', data=diabetes_capped[diabetes_capped['Outcome'] == 1]) # Seaborn only needs one line in contrast to matplotlib"
   ]
  },
  {
   "cell_type": "markdown",
   "metadata": {},
   "source": [
    "We've now saved many lines of code _and_ got the axes labeled for free _and_ avoided any potential errors with mislabeling the axes or during transformation from matrix form to arrays."
   ]
  },
  {
   "cell_type": "markdown",
   "metadata": {},
   "source": [
    "**Remark** Seaborn is known for having nicer looking colours, and [makes it easier to choose colours that are distinguishable by people with colourblindness](http://seaborn.pydata.org/tutorial/colour_palettes.html). However, you should recall that adding more colour does not always improve your plot. For example, in the plot above: what do the colours mean? If the different colours don't have any meaning they aren't helpful and should be removed.\n",
    "\n",
    "Of course, we can fix this problem in Seaborn as well:"
   ]
  },
  {
   "cell_type": "code",
   "execution_count": null,
   "metadata": {},
   "outputs": [],
   "source": [
    "sns.boxplot(data=bmi_pregnancy_diabetes_true, color=\"navajowhite\") # Navajowhite? Seaborn has a huge amount of colors to choose from\n",
    "plt.show()"
   ]
  },
  {
   "cell_type": "markdown",
   "metadata": {},
   "source": [
    "The colour options are endless in Seaborn. Here is a helpful [guide](https://medium.com/@morganjonesartist/colour-guide-to-seaborn-palettes-da849406d44f). But though Seaborn is known for its colour, remember that of course it isn't everything, as we have seen in the histogram plot for example."
   ]
  },
  {
   "cell_type": "markdown",
   "metadata": {},
   "source": [
    "That said, we can use colour to good effect by creating a plot in which we map the Outcome (Diabetes or no diabetes) onto the hue. We now how a plot that aids visual comparison."
   ]
  },
  {
   "cell_type": "code",
   "execution_count": null,
   "metadata": {},
   "outputs": [],
   "source": [
    "sns.boxplot(x='Pregnancies', y='BMI', hue='Outcome', data=diabetes_capped)"
   ]
  },
  {
   "cell_type": "markdown",
   "metadata": {},
   "source": [
    "### D.2 Extra plots\n",
    "\n",
    "Seaborn does not just render more beautiful, labeled plots with less code, it also contains plots that are not present in Matplotlib. For example, above we have asked you to discuss what the problems might be with boxplots. You might have remarked that they strongly simplify distributions and do not represent  bimodal distributions well. Violin plots can show in simple plots the distribution, while also preserving its form."
   ]
  },
  {
   "cell_type": "code",
   "execution_count": null,
   "metadata": {},
   "outputs": [],
   "source": [
    "plt.figure(figsize=(15,6))\n",
    "sns.violinplot(x='Pregnancies', y='BMI', data=diabetes_capped[diabetes_capped['Outcome'] == 1], color=\"navajowhite\")"
   ]
  },
  {
   "cell_type": "code",
   "execution_count": null,
   "metadata": {},
   "outputs": [],
   "source": [
    "plt.figure(figsize=(15,6))\n",
    "sns.violinplot(x='Pregnancies', y='BMI', hue='Outcome', data=diabetes_capped)"
   ]
  },
  {
   "cell_type": "markdown",
   "metadata": {},
   "source": [
    "**Discussion:** Discuss with your lab partner what the advantages and disadvantages of boxplots and violin plots are."
   ]
  },
  {
   "cell_type": "markdown",
   "metadata": {},
   "source": [
    "Your answer:\n"
   ]
  },
  {
   "cell_type": "markdown",
   "metadata": {},
   "source": [
    "The last plot we are going to discuss in this lab are **pairplots**. We have already seen them in the second lab to show the correlation between different *pairs* of dimensions. This is very helpful when analyzing a multidimensional set."
   ]
  },
  {
   "cell_type": "code",
   "execution_count": null,
   "metadata": {},
   "outputs": [],
   "source": [
    "sns.pairplot(diabetes, hue='Outcome')"
   ]
  },
  {
   "cell_type": "markdown",
   "metadata": {},
   "source": [
    "**Discussion:**\n",
    "\n",
    "Discuss with your lab partner what you can see in the plot:\n",
    "\n",
    "- Is there data, that should be cleaned before further analyzing it?\n",
    "- Are there certain features that, by themselves, already predict whether someone is more likely to have diabetes?\n",
    "- Can you make out clear dependencies between dimensions?\n",
    "\n",
    "You have learned a lot about plotting and how plots should be presented. \n",
    "\n",
    "- Is the plot above one that could be used in a presentation? \n",
    "- How could we improve it?\n",
    "\n",
    "In this lab, we have seen how to visualize distributions in data sets, and especially pairplots can tell us a lot about our data, before we process it. In the labs in week 7 and 8, we will come back to this data set and continue exploring it. Hopefully, we can extract features that allow us to predict patients susceptible to having diabetes, in order to answer fully our research question."
   ]
  },
  {
   "cell_type": "markdown",
   "metadata": {},
   "source": [
    "### Remarks regarding Matplotlib vs Seaborn\n",
    "\n",
    "Whether you use Matplotlib or Seaborn in the course work is entirely up to you. The importance of Matplotlib lies in the fact that most researchers use Matplotlib and Seaborn is built on top of it. Now you have the tools at your hand to use Matplotlib, you know what to search for in the documentation and on stackoverflow when you are stuck with a plotting problem, you can easily understand the answers people post on stackoverflow. On the other hand, understanding the inner-workings of Matplotlib will help you to also easily understand the Seaborn documentation. It is up to you to spend some extra time playing around with Seaborn. The next exercise is optional, but we highly recommend that you do it.\n",
    "\n",
    "**Optional Exercise:**\n",
    "\n",
    "Use Seaborn to recreate the plots you have plotted above, or in the previous lab.\n",
    "\n",
    "Here is the documentation for the different plots:\n",
    "\n",
    "- [Line plots](https://seaborn.pydata.org/generated/seaborn.lineplot.html)\n",
    "- [Bar plots](https://seaborn.pydata.org/generated/seaborn.barplot.html)\n",
    "- [Scatter plots](https://seaborn.pydata.org/generated/seaborn.scatterplot.html)\n",
    "- [Histograms](https://seaborn.pydata.org/generated/seaborn.distplot.html)\n",
    "- [Box plots](https://seaborn.pydata.org/generated/seaborn.boxplot.html)\n",
    "- [Heatmaps](https://seaborn.pydata.org/generated/seaborn.heatmap.html)"
   ]
  },
  {
   "cell_type": "code",
   "execution_count": null,
   "metadata": {},
   "outputs": [],
   "source": [
    "# Your code"
   ]
  }
 ],
 "metadata": {
  "anaconda-cloud": {},
  "kernelspec": {
   "display_name": "Python 3",
   "language": "python",
   "name": "python3"
  },
  "language_info": {
   "codemirror_mode": {
    "name": "ipython",
    "version": 3
   },
   "file_extension": ".py",
   "mimetype": "text/x-python",
   "name": "python",
   "nbconvert_exporter": "python",
   "pygments_lexer": "ipython3",
   "version": "3.8.1"
  }
 },
 "nbformat": 4,
 "nbformat_minor": 1
}
