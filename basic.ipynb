{
 "cells": [
  {
   "cell_type": "code",
   "execution_count": 2,
   "id": "c77c5769",
   "metadata": {},
   "outputs": [],
   "source": [
    "import numpy as np"
   ]
  },
  {
   "cell_type": "code",
   "execution_count": 2,
   "id": "17f04ac9",
   "metadata": {},
   "outputs": [
    {
     "name": "stdout",
     "output_type": "stream",
     "text": [
      "[92, 94, 88, 91, 87, 79, 100, 86, 93, 91]\n"
     ]
    }
   ],
   "source": [
    "test1 = [92, 94, 88, 91, 87]\n",
    "test2 = [79, 100, 86, 93, 91]\n",
    "print(test1+test2)"
   ]
  },
  {
   "cell_type": "code",
   "execution_count": 5,
   "id": "e0fb5a96",
   "metadata": {},
   "outputs": [
    {
     "ename": "TypeError",
     "evalue": "can only concatenate list (not \"int\") to list",
     "output_type": "error",
     "traceback": [
      "\u001b[0;31m---------------------------------------------------------------------------\u001b[0m",
      "\u001b[0;31mTypeError\u001b[0m                                 Traceback (most recent call last)",
      "\u001b[0;32m/tmp/ipykernel_44789/3166990437.py\u001b[0m in \u001b[0;36m<module>\u001b[0;34m\u001b[0m\n\u001b[0;32m----> 1\u001b[0;31m \u001b[0mprint\u001b[0m\u001b[0;34m(\u001b[0m\u001b[0mtest1\u001b[0m \u001b[0;34m+\u001b[0m \u001b[0;36m2\u001b[0m \u001b[0;34m)\u001b[0m\u001b[0;34m\u001b[0m\u001b[0;34m\u001b[0m\u001b[0m\n\u001b[0m",
      "\u001b[0;31mTypeError\u001b[0m: can only concatenate list (not \"int\") to list"
     ]
    }
   ],
   "source": [
    "print(test1 + 2 )"
   ]
  },
  {
   "cell_type": "code",
   "execution_count": 8,
   "id": "81ba98ff",
   "metadata": {},
   "outputs": [
    {
     "name": "stdout",
     "output_type": "stream",
     "text": [
      "<class 'numpy.ndarray'>\n",
      "(3,)\n",
      "2\n"
     ]
    }
   ],
   "source": [
    "a = np.array([1,2,3])\n",
    "print(type(a))\n",
    "print(a.shape)\n",
    "#Numpy Arrays are mutable, which means that you can change the value of an element in the array after an array has been initialized.\n",
    "print(a[1])"
   ]
  },
  {
   "cell_type": "code",
   "execution_count": 10,
   "id": "36f10a9b",
   "metadata": {},
   "outputs": [
    {
     "name": "stdout",
     "output_type": "stream",
     "text": [
      "(2, 3)\n"
     ]
    }
   ],
   "source": [
    "b = np.array([[1,2,3],[4,5,6]])\n",
    "print(b.shape)"
   ]
  },
  {
   "cell_type": "code",
   "execution_count": 5,
   "id": "a192bf90",
   "metadata": {},
   "outputs": [
    {
     "data": {
      "text/plain": [
       "array([6.95106072e-310, 6.95106072e-310, 4.94065646e-324,             nan,\n",
       "       2.37151510e-322])"
      ]
     },
     "execution_count": 5,
     "metadata": {},
     "output_type": "execute_result"
    }
   ],
   "source": [
    "np.zeros(2)\n",
    "np.ones(2)\n",
    "np.empty(5)"
   ]
  },
  {
   "cell_type": "code",
   "execution_count": 19,
   "id": "60780d95",
   "metadata": {},
   "outputs": [
    {
     "name": "stdout",
     "output_type": "stream",
     "text": [
      "[2 4 6 8]\n",
      "[[2 4]\n",
      " [6 8]]\n"
     ]
    }
   ],
   "source": [
    "np.arange(4)\n",
    "a = np.arange(2,9,2)\n",
    "a.dtype\n",
    "print(a)\n",
    "b = a.reshape(2,2)\n",
    "print(b)"
   ]
  },
  {
   "cell_type": "code",
   "execution_count": 22,
   "id": "7126cee2",
   "metadata": {},
   "outputs": [
    {
     "data": {
      "text/plain": [
       "array([-5, -4, -3, -2, -1,  0,  1,  2,  3,  4,  5])"
      ]
     },
     "execution_count": 22,
     "metadata": {},
     "output_type": "execute_result"
    }
   ],
   "source": [
    "np.linspace(0,10, num=10)\n",
    "np.linspace(-5, 5, 100)\n",
    "np.arange(-5,6)"
   ]
  },
  {
   "cell_type": "code",
   "execution_count": 23,
   "id": "870bd40c",
   "metadata": {},
   "outputs": [],
   "source": [
    "array_example = np.array([[[0, 1, 2, 3],\n",
    "...                            [4, 5, 6, 7]],\n",
    "...\n",
    "...                           [[0, 1, 2, 3],\n",
    "...                            [4, 5, 6, 7]],\n",
    "...\n",
    "...                           [[0 ,1 ,2, 3],\n",
    "...                            [4, 5, 6, 7]]])"
   ]
  },
  {
   "cell_type": "code",
   "execution_count": 24,
   "id": "e7c47d86",
   "metadata": {},
   "outputs": [
    {
     "name": "stdout",
     "output_type": "stream",
     "text": [
      "[[[0 1 2 3]\n",
      "  [4 5 6 7]]\n",
      "\n",
      " [[0 1 2 3]\n",
      "  [4 5 6 7]]\n",
      "\n",
      " [[0 1 2 3]\n",
      "  [4 5 6 7]]]\n"
     ]
    }
   ],
   "source": [
    "print(array_example)"
   ]
  },
  {
   "cell_type": "code",
   "execution_count": 25,
   "id": "e2125fa8",
   "metadata": {},
   "outputs": [
    {
     "data": {
      "text/plain": [
       "24"
      ]
     },
     "execution_count": 25,
     "metadata": {},
     "output_type": "execute_result"
    }
   ],
   "source": [
    "array_example.size"
   ]
  },
  {
   "cell_type": "code",
   "execution_count": 26,
   "id": "460a826f",
   "metadata": {},
   "outputs": [
    {
     "data": {
      "text/plain": [
       "(3, 2, 4)"
      ]
     },
     "execution_count": 26,
     "metadata": {},
     "output_type": "execute_result"
    }
   ],
   "source": [
    "array_example.shape #tensor  #"
   ]
  },
  {
   "cell_type": "code",
   "execution_count": 27,
   "id": "c912acfc",
   "metadata": {},
   "outputs": [],
   "source": [
    "c = np.array([[1, 2, 3, 4], [5, 6, 7, 8], [9, 10, 11, 12]])"
   ]
  },
  {
   "cell_type": "code",
   "execution_count": 28,
   "id": "cb8d071e",
   "metadata": {},
   "outputs": [
    {
     "data": {
      "text/plain": [
       "(3, 4)"
      ]
     },
     "execution_count": 28,
     "metadata": {},
     "output_type": "execute_result"
    }
   ],
   "source": [
    "c.shape"
   ]
  },
  {
   "cell_type": "code",
   "execution_count": 3,
   "id": "8078c22e",
   "metadata": {},
   "outputs": [
    {
     "data": {
      "text/plain": [
       "array([[[ 0,  1,  2],\n",
       "        [ 3,  4,  5],\n",
       "        [ 6,  7,  8],\n",
       "        [ 9, 10, 11]],\n",
       "\n",
       "       [[12, 13, 14],\n",
       "        [15, 16, 17],\n",
       "        [18, 19, 20],\n",
       "        [21, 22, 23]],\n",
       "\n",
       "       [[24, 25, 26],\n",
       "        [27, 28, 29],\n",
       "        [30, 31, 32],\n",
       "        [33, 34, 35]]])"
      ]
     },
     "execution_count": 3,
     "metadata": {},
     "output_type": "execute_result"
    }
   ],
   "source": [
    "np.arange(36).reshape(3,4,3)"
   ]
  },
  {
   "cell_type": "code",
   "execution_count": 7,
   "id": "e5ff0967",
   "metadata": {},
   "outputs": [
    {
     "data": {
      "text/plain": [
       "(6,)"
      ]
     },
     "execution_count": 7,
     "metadata": {},
     "output_type": "execute_result"
    }
   ],
   "source": [
    "arrai = np.arange(6)\n",
    "arrai.shape"
   ]
  },
  {
   "cell_type": "code",
   "execution_count": 10,
   "id": "9532d10d",
   "metadata": {},
   "outputs": [
    {
     "name": "stdout",
     "output_type": "stream",
     "text": [
      "[0 1 2 3 4 5]\n"
     ]
    }
   ],
   "source": [
    "print(arrai)"
   ]
  },
  {
   "cell_type": "code",
   "execution_count": 8,
   "id": "db9c0026",
   "metadata": {},
   "outputs": [
    {
     "data": {
      "text/plain": [
       "(1, 6)"
      ]
     },
     "execution_count": 8,
     "metadata": {},
     "output_type": "execute_result"
    }
   ],
   "source": [
    "arraies = arrai[np.newaxis, :]\n",
    "arraies.shape"
   ]
  },
  {
   "cell_type": "code",
   "execution_count": 9,
   "id": "2d3158fe",
   "metadata": {},
   "outputs": [
    {
     "name": "stdout",
     "output_type": "stream",
     "text": [
      "[[0 1 2 3 4 5]]\n"
     ]
    }
   ],
   "source": [
    "print(arraies)"
   ]
  },
  {
   "cell_type": "code",
   "execution_count": 11,
   "id": "f71baa16",
   "metadata": {},
   "outputs": [
    {
     "data": {
      "text/plain": [
       "(6, 1)"
      ]
     },
     "execution_count": 11,
     "metadata": {},
     "output_type": "execute_result"
    }
   ],
   "source": [
    "arraies2 = arrai[:,np.newaxis]\n",
    "arraies2.shape"
   ]
  },
  {
   "cell_type": "code",
   "execution_count": 12,
   "id": "35d807d0",
   "metadata": {},
   "outputs": [
    {
     "name": "stdout",
     "output_type": "stream",
     "text": [
      "[[0]\n",
      " [1]\n",
      " [2]\n",
      " [3]\n",
      " [4]\n",
      " [5]]\n"
     ]
    }
   ],
   "source": [
    "print(arraies2)"
   ]
  },
  {
   "cell_type": "code",
   "execution_count": 13,
   "id": "c3627b80",
   "metadata": {},
   "outputs": [],
   "source": [
    "arr = np.array([2, 1, 5, 3, 7, 4, 6, 8])"
   ]
  },
  {
   "cell_type": "code",
   "execution_count": 14,
   "id": "c9927b61",
   "metadata": {},
   "outputs": [
    {
     "data": {
      "text/plain": [
       "array([1, 2, 3, 4, 5, 6, 7, 8])"
      ]
     },
     "execution_count": 14,
     "metadata": {},
     "output_type": "execute_result"
    }
   ],
   "source": [
    "np.sort(arr)"
   ]
  },
  {
   "cell_type": "code",
   "execution_count": 15,
   "id": "89b11b49",
   "metadata": {},
   "outputs": [],
   "source": [
    "a = np.array([[1 , 2, 3, 4], [5, 6, 7, 8], [9, 10, 11, 12]])"
   ]
  },
  {
   "cell_type": "code",
   "execution_count": 16,
   "id": "290588f6",
   "metadata": {},
   "outputs": [
    {
     "data": {
      "text/plain": [
       "(3, 4)"
      ]
     },
     "execution_count": 16,
     "metadata": {},
     "output_type": "execute_result"
    }
   ],
   "source": [
    "a.shape"
   ]
  },
  {
   "cell_type": "code",
   "execution_count": 17,
   "id": "306c1246",
   "metadata": {},
   "outputs": [
    {
     "name": "stdout",
     "output_type": "stream",
     "text": [
      "[1 2 3 4 5]\n"
     ]
    }
   ],
   "source": [
    "print(a[a<6])"
   ]
  },
  {
   "cell_type": "code",
   "execution_count": 18,
   "id": "6b9b5127",
   "metadata": {},
   "outputs": [
    {
     "name": "stdout",
     "output_type": "stream",
     "text": [
      "[1 2 3 4 5]\n"
     ]
    }
   ],
   "source": [
    "less_than_six = (a < 6)\n",
    "print(a[less_than_six])"
   ]
  },
  {
   "cell_type": "code",
   "execution_count": 20,
   "id": "4644d4ef",
   "metadata": {},
   "outputs": [
    {
     "name": "stdout",
     "output_type": "stream",
     "text": [
      "[ 2  4  6  8 10 12]\n"
     ]
    }
   ],
   "source": [
    "divisible_by_two = a[a%2==0]\n",
    "print(divisible_by_two)"
   ]
  },
  {
   "cell_type": "code",
   "execution_count": 21,
   "id": "f298b2d5",
   "metadata": {},
   "outputs": [
    {
     "name": "stdout",
     "output_type": "stream",
     "text": [
      "[ 3  4  5  6  7  8  9 10]\n"
     ]
    }
   ],
   "source": [
    "c = a[(a>2)&(a<11)]\n",
    "print(c)"
   ]
  },
  {
   "cell_type": "code",
   "execution_count": 22,
   "id": "67a861c5",
   "metadata": {},
   "outputs": [
    {
     "name": "stdout",
     "output_type": "stream",
     "text": [
      "[[ 1  2  3  4]\n",
      " [ 5  6  7  8]\n",
      " [ 9 10 11 12]]\n"
     ]
    }
   ],
   "source": [
    "print(a)"
   ]
  },
  {
   "cell_type": "code",
   "execution_count": 24,
   "id": "b0a62b9b",
   "metadata": {},
   "outputs": [
    {
     "name": "stdout",
     "output_type": "stream",
     "text": [
      "[[False False False False]\n",
      " [False False False False]\n",
      " [False False False False]]\n"
     ]
    }
   ],
   "source": [
    "condition = (a>5) & (a == 5)\n",
    "print(condition)"
   ]
  },
  {
   "cell_type": "code",
   "execution_count": 1,
   "id": "b9e87553",
   "metadata": {},
   "outputs": [],
   "source": [
    "import os"
   ]
  },
  {
   "cell_type": "code",
   "execution_count": 2,
   "id": "ffb281a2",
   "metadata": {},
   "outputs": [
    {
     "data": {
      "text/plain": [
       "'/home/Ana/my_project'"
      ]
     },
     "execution_count": 2,
     "metadata": {},
     "output_type": "execute_result"
    }
   ],
   "source": [
    "os.getcwd()"
   ]
  },
  {
   "cell_type": "code",
   "execution_count": 4,
   "id": "6a856d37",
   "metadata": {},
   "outputs": [
    {
     "data": {
      "text/plain": [
       "['Untitled.ipynb',\n",
       " '.env',\n",
       " 'torch_.ipynb',\n",
       " 'scan.py',\n",
       " 'Untitled2.ipynb',\n",
       " '.ipynb_checkpoints',\n",
       " '02machine_learning',\n",
       " 'cnn_and_lstm-Copy1.ipynb',\n",
       " 'BERT_24th_Dex.ipynb',\n",
       " 'Untitled',\n",
       " 'PCFG.py.lock',\n",
       " 'temp',\n",
       " 'squad.py',\n",
       " 'scan.py.lock',\n",
       " '01linear_algebra',\n",
       " 'cnn_and_lstm.ipynb',\n",
       " 'squad.py.lock',\n",
       " 'RNN.ipynb',\n",
       " 'data',\n",
       " '.idea',\n",
       " 'hugging_data.ipynb',\n",
       " 'Untitled Folder',\n",
       " '.git',\n",
       " 'PCFG.py']"
      ]
     },
     "execution_count": 4,
     "metadata": {},
     "output_type": "execute_result"
    }
   ],
   "source": [
    "os.listdir(\".\")"
   ]
  },
  {
   "cell_type": "code",
   "execution_count": 6,
   "id": "b0827f65",
   "metadata": {},
   "outputs": [
    {
     "name": "stdout",
     "output_type": "stream",
     "text": [
      "Untitled.ipynb\n",
      "torch_.ipynb\n",
      "Untitled2.ipynb\n",
      "cnn_and_lstm-Copy1.ipynb\n",
      "BERT_24th_Dex.ipynb\n",
      "cnn_and_lstm.ipynb\n",
      "RNN.ipynb\n",
      "hugging_data.ipynb\n"
     ]
    }
   ],
   "source": [
    "for x in os.listdir(\".\"):\n",
    "    if x.endswith('.ipynb'):\n",
    "        print(x)"
   ]
  },
  {
   "cell_type": "code",
   "execution_count": 8,
   "id": "7773eb97",
   "metadata": {},
   "outputs": [
    {
     "name": "stdout",
     "output_type": "stream",
     "text": [
      "Untitled.ipynb ana_datatypes.ipynb .ipynb_checkpoints ana_class.ipynb [HW10]_Simple_Linear_Regression.ipynb [HW11]_Multiple_linear_regression.ipynb ana_function.ipynb Untitled1.ipynb ana_basic_old.ipynb .git ana_numpy.ipynb\n"
     ]
    }
   ],
   "source": [
    "print(*[file for file in os.listdir('02machine_learning')])"
   ]
  },
  {
   "cell_type": "code",
   "execution_count": 2,
   "id": "2e049e01",
   "metadata": {},
   "outputs": [
    {
     "data": {
      "text/plain": [
       "'/home/Ana/my_project'"
      ]
     },
     "execution_count": 2,
     "metadata": {},
     "output_type": "execute_result"
    }
   ],
   "source": [
    "import os\n",
    "os.getcwd()"
   ]
  },
  {
   "cell_type": "code",
   "execution_count": 10,
   "id": "975ce29a",
   "metadata": {},
   "outputs": [
    {
     "data": {
      "text/plain": [
       "'/home/Ana/my_project/01linear_algebra'"
      ]
     },
     "execution_count": 10,
     "metadata": {},
     "output_type": "execute_result"
    }
   ],
   "source": [
    "os.chdir('/home/Ana/my_project/01linear_algebra')\n",
    "os.getcwd()"
   ]
  },
  {
   "cell_type": "code",
   "execution_count": 11,
   "id": "c20a9d33",
   "metadata": {},
   "outputs": [
    {
     "data": {
      "text/plain": [
       "['HW2. 나만의 데이터셋 만들기.ipynb',\n",
       " '.ipynb_checkpoints',\n",
       " 'HW7_Practice_5_answer.ipynb',\n",
       " 'HW3_Practice_1_answer.ipynb',\n",
       " 'HW7_Practice_5.ipynb',\n",
       " 'HW4_Practice_2_answer.ipynb',\n",
       " 'HW5_Practice_3.ipynb',\n",
       " 'HW8_Practice_6_answer.ipynb',\n",
       " 'HW6_Practice_4.ipynb',\n",
       " '__pycache__',\n",
       " 'HW5_Practice_3_answer.ipynb',\n",
       " 'HW1. Python 내장함수와 알고리즘 구현.ipynb',\n",
       " 'plot_helper.py',\n",
       " 'HW6_Practice_4_answer.ipynb',\n",
       " 'HW4_Practice_2.ipynb',\n",
       " '.git',\n",
       " 'HW3_Practice_1.ipynb',\n",
       " 'Quiz1_Linear algebra.ipynb',\n",
       " 'HW8_Practice_6.ipynb']"
      ]
     },
     "execution_count": 11,
     "metadata": {},
     "output_type": "execute_result"
    }
   ],
   "source": [
    "os.listdir()"
   ]
  },
  {
   "cell_type": "code",
   "execution_count": 15,
   "id": "9d1d3b80",
   "metadata": {},
   "outputs": [
    {
     "data": {
      "text/plain": [
       "True"
      ]
     },
     "execution_count": 15,
     "metadata": {},
     "output_type": "execute_result"
    }
   ],
   "source": [
    "os.path.exists('/home/Ana/my_project/01linear_algebra')"
   ]
  },
  {
   "cell_type": "code",
   "execution_count": 16,
   "id": "9ca8eb35",
   "metadata": {},
   "outputs": [
    {
     "data": {
      "text/plain": [
       "False"
      ]
     },
     "execution_count": 16,
     "metadata": {},
     "output_type": "execute_result"
    }
   ],
   "source": [
    "os.path.exists('/home/Ana/my_project/01linear_algebrar')"
   ]
  },
  {
   "cell_type": "code",
   "execution_count": 21,
   "id": "ce555674",
   "metadata": {},
   "outputs": [
    {
     "data": {
      "text/plain": [
       "('/home/Ana/my_project/01linear_algebra/HW7_Practice_5', '.ipynb')"
      ]
     },
     "execution_count": 21,
     "metadata": {},
     "output_type": "execute_result"
    }
   ],
   "source": [
    "os.path.splitext('/home/Ana/my_project/01linear_algebra/HW7_Practice_5.ipynb')"
   ]
  },
  {
   "cell_type": "code",
   "execution_count": 22,
   "id": "ce0f1b9a",
   "metadata": {},
   "outputs": [
    {
     "data": {
      "text/plain": [
       "'/home/Ana/my_project/01linear_algebra/os_test.txt'"
      ]
     },
     "execution_count": 22,
     "metadata": {},
     "output_type": "execute_result"
    }
   ],
   "source": [
    "path = '/home/Ana/my_project/01linear_algebra'\n",
    "filename = 'os_test.txt'\n",
    "os.path.join(path, filename)"
   ]
  },
  {
   "cell_type": "code",
   "execution_count": 25,
   "id": "3c8145b1",
   "metadata": {},
   "outputs": [
    {
     "data": {
      "text/plain": [
       "['HW2. 나만의 데이터셋 만들기.ipynb',\n",
       " '.ipynb_checkpoints',\n",
       " 'HW7_Practice_5_answer.ipynb',\n",
       " 'HW3_Practice_1_answer.ipynb',\n",
       " 'HW7_Practice_5.ipynb',\n",
       " 'HW4_Practice_2_answer.ipynb',\n",
       " 'HW5_Practice_3.ipynb',\n",
       " 'HW8_Practice_6_answer.ipynb',\n",
       " 'HW6_Practice_4.ipynb',\n",
       " '__pycache__',\n",
       " 'HW5_Practice_3_answer.ipynb',\n",
       " 'HW1. Python 내장함수와 알고리즘 구현.ipynb',\n",
       " 'plot_helper.py',\n",
       " 'HW6_Practice_4_answer.ipynb',\n",
       " 'HW4_Practice_2.ipynb',\n",
       " '.git',\n",
       " 'HW3_Practice_1.ipynb',\n",
       " 'Quiz1_Linear algebra.ipynb',\n",
       " 'HW8_Practice_6.ipynb']"
      ]
     },
     "execution_count": 25,
     "metadata": {},
     "output_type": "execute_result"
    }
   ],
   "source": [
    "os.listdir()"
   ]
  },
  {
   "cell_type": "code",
   "execution_count": 24,
   "id": "18e613f3",
   "metadata": {},
   "outputs": [
    {
     "data": {
      "text/plain": [
       "'/home/Ana/my_project/01linear_algebra'"
      ]
     },
     "execution_count": 24,
     "metadata": {},
     "output_type": "execute_result"
    }
   ],
   "source": [
    "os.getcwd()"
   ]
  },
  {
   "cell_type": "code",
   "execution_count": 27,
   "id": "c96adf75",
   "metadata": {},
   "outputs": [
    {
     "data": {
      "text/plain": [
       "'/home/Ana/my_project/01linear_algebra'"
      ]
     },
     "execution_count": 27,
     "metadata": {},
     "output_type": "execute_result"
    }
   ],
   "source": [
    "os.path.dirname('/home/Ana/my_project/01linear_algebra/os_test.txt')"
   ]
  },
  {
   "cell_type": "code",
   "execution_count": 28,
   "id": "3d4d4a96",
   "metadata": {},
   "outputs": [
    {
     "data": {
      "text/plain": [
       "'os_test.txt'"
      ]
     },
     "execution_count": 28,
     "metadata": {},
     "output_type": "execute_result"
    }
   ],
   "source": [
    "os.path.basename('/home/Ana/my_project/01linear_algebra/os_test.txt')"
   ]
  },
  {
   "cell_type": "code",
   "execution_count": 29,
   "id": "2d49dc45",
   "metadata": {},
   "outputs": [],
   "source": [
    "import sys"
   ]
  },
  {
   "cell_type": "code",
   "execution_count": 31,
   "id": "1876829d",
   "metadata": {},
   "outputs": [
    {
     "name": "stdout",
     "output_type": "stream",
     "text": [
      "['/home/Ana/miniconda3/lib/python3.9/site-packages/ipykernel_launcher.py', '-f', '/home/Ana/.local/share/jupyter/runtime/kernel-b6b5f35e-7741-4b3f-86a7-c414ae6de115.json']\n"
     ]
    }
   ],
   "source": [
    "print(sys.argv)"
   ]
  },
  {
   "cell_type": "code",
   "execution_count": 32,
   "id": "f5c4308b",
   "metadata": {},
   "outputs": [
    {
     "data": {
      "text/plain": [
       "['__add__',\n",
       " '__class__',\n",
       " '__contains__',\n",
       " '__delattr__',\n",
       " '__dir__',\n",
       " '__doc__',\n",
       " '__eq__',\n",
       " '__format__',\n",
       " '__ge__',\n",
       " '__getattribute__',\n",
       " '__getitem__',\n",
       " '__getnewargs__',\n",
       " '__gt__',\n",
       " '__hash__',\n",
       " '__init__',\n",
       " '__init_subclass__',\n",
       " '__iter__',\n",
       " '__le__',\n",
       " '__len__',\n",
       " '__lt__',\n",
       " '__mod__',\n",
       " '__mul__',\n",
       " '__ne__',\n",
       " '__new__',\n",
       " '__reduce__',\n",
       " '__reduce_ex__',\n",
       " '__repr__',\n",
       " '__rmod__',\n",
       " '__rmul__',\n",
       " '__setattr__',\n",
       " '__sizeof__',\n",
       " '__str__',\n",
       " '__subclasshook__',\n",
       " 'capitalize',\n",
       " 'casefold',\n",
       " 'center',\n",
       " 'count',\n",
       " 'encode',\n",
       " 'endswith',\n",
       " 'expandtabs',\n",
       " 'find',\n",
       " 'format',\n",
       " 'format_map',\n",
       " 'index',\n",
       " 'isalnum',\n",
       " 'isalpha',\n",
       " 'isascii',\n",
       " 'isdecimal',\n",
       " 'isdigit',\n",
       " 'isidentifier',\n",
       " 'islower',\n",
       " 'isnumeric',\n",
       " 'isprintable',\n",
       " 'isspace',\n",
       " 'istitle',\n",
       " 'isupper',\n",
       " 'join',\n",
       " 'ljust',\n",
       " 'lower',\n",
       " 'lstrip',\n",
       " 'maketrans',\n",
       " 'partition',\n",
       " 'removeprefix',\n",
       " 'removesuffix',\n",
       " 'replace',\n",
       " 'rfind',\n",
       " 'rindex',\n",
       " 'rjust',\n",
       " 'rpartition',\n",
       " 'rsplit',\n",
       " 'rstrip',\n",
       " 'split',\n",
       " 'splitlines',\n",
       " 'startswith',\n",
       " 'strip',\n",
       " 'swapcase',\n",
       " 'title',\n",
       " 'translate',\n",
       " 'upper',\n",
       " 'zfill']"
      ]
     },
     "execution_count": 32,
     "metadata": {},
     "output_type": "execute_result"
    }
   ],
   "source": [
    "dir(\".\")"
   ]
  },
  {
   "cell_type": "code",
   "execution_count": 34,
   "id": "f54214af",
   "metadata": {
    "scrolled": true
   },
   "outputs": [
    {
     "data": {
      "text/plain": [
       "'/home/Ana/my_project/01linear_algebra'"
      ]
     },
     "execution_count": 34,
     "metadata": {},
     "output_type": "execute_result"
    }
   ],
   "source": [
    "os.getcwd()"
   ]
  },
  {
   "cell_type": "code",
   "execution_count": 38,
   "id": "c6b372f6",
   "metadata": {},
   "outputs": [
    {
     "name": "stdout",
     "output_type": "stream",
     "text": [
      "there is modern\n"
     ]
    }
   ],
   "source": [
    "if 'modern' not in 'heaily modern':\n",
    "    print('there is no s')\n",
    "else:\n",
    "    print('there is modern')"
   ]
  },
  {
   "cell_type": "code",
   "execution_count": 42,
   "id": "d443ed1e",
   "metadata": {},
   "outputs": [
    {
     "data": {
      "text/plain": [
       "139743465141168"
      ]
     },
     "execution_count": 42,
     "metadata": {},
     "output_type": "execute_result"
    }
   ],
   "source": [
    "id('moden')"
   ]
  },
  {
   "cell_type": "code",
   "execution_count": 43,
   "id": "a618d56e",
   "metadata": {},
   "outputs": [
    {
     "data": {
      "text/plain": [
       "139743465143536"
      ]
     },
     "execution_count": 43,
     "metadata": {},
     "output_type": "execute_result"
    }
   ],
   "source": [
    "id('modern')"
   ]
  },
  {
   "cell_type": "code",
   "execution_count": 45,
   "id": "f60d4426",
   "metadata": {},
   "outputs": [
    {
     "data": {
      "text/plain": [
       "False"
      ]
     },
     "execution_count": 45,
     "metadata": {},
     "output_type": "execute_result"
    }
   ],
   "source": [
    "'alice' in ['true','bomb ', 'haddington']"
   ]
  },
  {
   "cell_type": "code",
   "execution_count": 46,
   "id": "244e8b05",
   "metadata": {},
   "outputs": [
    {
     "name": "stdout",
     "output_type": "stream",
     "text": [
      "['s', 't', 'r', 'i', 'n', 'g']\n"
     ]
    }
   ],
   "source": [
    "text = 'string'\n",
    "print(list(text))"
   ]
  },
  {
   "cell_type": "code",
   "execution_count": 47,
   "id": "8fe806c3",
   "metadata": {},
   "outputs": [
    {
     "name": "stdout",
     "output_type": "stream",
     "text": [
      "['s']\n",
      "['t']\n",
      "['r']\n",
      "['i']\n",
      "['n']\n",
      "['g']\n"
     ]
    }
   ],
   "source": [
    "for x in text:\n",
    "\tprint(list(x))"
   ]
  },
  {
   "cell_type": "code",
   "execution_count": 48,
   "id": "41b53579",
   "metadata": {},
   "outputs": [],
   "source": [
    "a = 3"
   ]
  },
  {
   "cell_type": "code",
   "execution_count": 49,
   "id": "d9ebc9ee",
   "metadata": {},
   "outputs": [
    {
     "data": {
      "text/plain": [
       "139744206109040"
      ]
     },
     "execution_count": 49,
     "metadata": {},
     "output_type": "execute_result"
    }
   ],
   "source": [
    "id(a)"
   ]
  },
  {
   "cell_type": "code",
   "execution_count": 50,
   "id": "666e374d",
   "metadata": {},
   "outputs": [],
   "source": [
    "a += 1 "
   ]
  },
  {
   "cell_type": "code",
   "execution_count": 51,
   "id": "2e6262b4",
   "metadata": {},
   "outputs": [
    {
     "data": {
      "text/plain": [
       "139744206109072"
      ]
     },
     "execution_count": 51,
     "metadata": {},
     "output_type": "execute_result"
    }
   ],
   "source": [
    "id(a)"
   ]
  },
  {
   "cell_type": "code",
   "execution_count": 52,
   "id": "e2f5b344",
   "metadata": {},
   "outputs": [
    {
     "data": {
      "text/plain": [
       "139743465141696"
      ]
     },
     "execution_count": 52,
     "metadata": {},
     "output_type": "execute_result"
    }
   ],
   "source": [
    "my_list = [1,2,3]\n",
    "id(my_list)"
   ]
  },
  {
   "cell_type": "code",
   "execution_count": 53,
   "id": "502e5992",
   "metadata": {},
   "outputs": [
    {
     "data": {
      "text/plain": [
       "139743465141696"
      ]
     },
     "execution_count": 53,
     "metadata": {},
     "output_type": "execute_result"
    }
   ],
   "source": [
    "my_list.append(5)\n",
    "id(my_list)"
   ]
  },
  {
   "cell_type": "code",
   "execution_count": null,
   "id": "16e8cde4",
   "metadata": {},
   "outputs": [],
   "source": []
  }
 ],
 "metadata": {
  "kernelspec": {
   "display_name": "Python 3 (ipykernel)",
   "language": "python",
   "name": "python3"
  },
  "language_info": {
   "codemirror_mode": {
    "name": "ipython",
    "version": 3
   },
   "file_extension": ".py",
   "mimetype": "text/x-python",
   "name": "python",
   "nbconvert_exporter": "python",
   "pygments_lexer": "ipython3",
   "version": "3.9.5"
  }
 },
 "nbformat": 4,
 "nbformat_minor": 5
}
